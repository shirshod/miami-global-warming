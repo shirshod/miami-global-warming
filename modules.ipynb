{
 "cells": [
  {
   "cell_type": "markdown",
   "id": "6f7baa9a",
   "metadata": {},
   "source": [
    "The code creates a library of predefined modules to compute relative humidity and heat indices — what the temperature feels like, since the same methods need to be called multiple ties in more than one Notebook. "
   ]
  },
  {
   "cell_type": "markdown",
   "id": "730d2c35",
   "metadata": {},
   "source": [
    "### Relative humidity"
   ]
  },
  {
   "cell_type": "code",
   "execution_count": 1,
   "id": "903e64ec",
   "metadata": {},
   "outputs": [],
   "source": [
    "def relHumidity(temp, dew):\n",
    "    \n",
    "    ### converts to celsius\n",
    "    temp_c = 5.0/9.0*(temp - 32.0)\n",
    "    dew_c = 5.0/9.0*(dew - 32.0)\n",
    "\n",
    "    ### calculates saturation and actual vapor pressures in millibars\n",
    "    es = 6.11*10.0**(7.5*temp_c/(237.7 + temp_c))\n",
    "    e = 6.11*10.0**(7.5*dew_c/(237.7 + dew_c))\n",
    "\n",
    "    ### calculates relative humidity as percent\n",
    "    rh = (e/es)*100\n",
    "    \n",
    "    ### returns value\n",
    "    return rh"
   ]
  },
  {
   "cell_type": "markdown",
   "id": "3fa23c01",
   "metadata": {},
   "source": [
    "### Steadman's apparent temperature and Rothfusz Regression"
   ]
  },
  {
   "cell_type": "markdown",
   "id": "0eb37018",
   "metadata": {},
   "source": [
    "NOTE: The formulae defined in the method is the same as that used by the National Weather Service to calculate heat index — an estimate of the apparent temperature or what the temperature \"feels like\". The initial formula tallies with the findings of Roger Steadman in 1984. If the calculated index is more than 80 degrees Fahrenheit, then the second formula — defining a Rothfusz regression and its adjustments are computed. The Rothfusz regression is not appropriate when temperature and humidity gives a heat index value below 80 degrees Fahrenheit."
   ]
  },
  {
   "cell_type": "code",
   "execution_count": 2,
   "id": "e413822a",
   "metadata": {},
   "outputs": [],
   "source": [
    "def heatIndex(temp, rh):\n",
    "    \n",
    "    ### calculates heat index (what the temperature \"feels like\") in fahrenheit\n",
    "    hi = 0.5*(temp+61.0+((temp-68.0)*1.2)+(rh*0.094))\n",
    "    hi = (hi + temp)/2\n",
    "\n",
    "    ### calculates adjusted heat index if index is above 80 (Rothfusz Regression)\n",
    "    if hi > 80:\n",
    "        hi = -42.379+2.04901523*temp+10.14333127*rh -0.22475541*temp*rh-0.00683783*temp*temp-0.05481717*rh*rh+0.00122874*temp*temp*rh+0.00085282*temp*rh*rh-0.00000199*temp*temp*rh*rh\n",
    "\n",
    "        if rh < 13 and temp > 80 and temp < 112:\n",
    "            factor = abs(temp-95.)\n",
    "            adjustment = ((13-rh)/4)*(((17-factor)/17)**0.5)\n",
    "            hi = hi-adjustment\n",
    "\n",
    "        elif rh > 85 and temp > 80 and temp < 87: \n",
    "            adjustment = ((rh-85)/10)*((87-temp)/5)\n",
    "            hi = hi+adjustment\n",
    "\n",
    "    ### rounds off heat index to one decimal point      \n",
    "    hi = round(hi, 1)\n",
    "    \n",
    "    ### returns value\n",
    "    return hi"
   ]
  }
 ],
 "metadata": {
  "kernelspec": {
   "display_name": "Python 3 (ipykernel)",
   "language": "python",
   "name": "python3"
  },
  "language_info": {
   "codemirror_mode": {
    "name": "ipython",
    "version": 3
   },
   "file_extension": ".py",
   "mimetype": "text/x-python",
   "name": "python",
   "nbconvert_exporter": "python",
   "pygments_lexer": "ipython3",
   "version": "3.9.12"
  }
 },
 "nbformat": 4,
 "nbformat_minor": 5
}
